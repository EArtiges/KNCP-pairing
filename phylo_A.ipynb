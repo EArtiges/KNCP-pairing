{
 "cells": [
  {
   "cell_type": "code",
   "execution_count": 1,
   "id": "888f36c2-bb4f-439a-9842-e06a9445eae2",
   "metadata": {},
   "outputs": [],
   "source": [
    "# !pip install dendropy"
   ]
  },
  {
   "cell_type": "code",
   "execution_count": 46,
   "id": "aa8757ca-771d-4c90-9ae8-06ae233e234f",
   "metadata": {},
   "outputs": [
    {
     "name": "stdout",
     "output_type": "stream",
     "text": [
      "ratio: 1.0\n"
     ]
    },
    {
     "data": {
      "text/plain": [
       "{'t1_score': 1.0, 't2_score': 1.0, 'mean_score': 1.0}"
      ]
     },
     "execution_count": 46,
     "metadata": {},
     "output_type": "execute_result"
    }
   ],
   "source": [
    "from methods import read_tree, get_tree2_distances, noisify_distances, baseline_method, get_matches, get_scores\n",
    "\n",
    "# STEP 1 read a tree in Newick format\n",
    "path = 'trees/test_tree.txt'\n",
    "# path = 'trees/sym_tree_T1.txt'\n",
    "path = 'trees/big_tree.txt'\n",
    "distances1 = read_tree(path)\n",
    "\n",
    "# STEP 2 change some of the leaves names and add noise to the distances (multiply each distances by a random number between 1 and 1.1)\n",
    "# changes = {'B': 'X', 'D': 'R', 'F': 'W', 'H': 'Z','E': 'Y'}\n",
    "\n",
    "n_common_leaves = 2\n",
    "n_diff_leaves = len(distances1) - n_common_leaves\n",
    "diff_leaves = distances1.index.to_series().sample(n_diff_leaves, replace=False).to_list()\n",
    "changes = {c:str(i) for i,c in enumerate(diff_leaves)}\n",
    "\n",
    "distances2 = get_tree2_distances(distances1, changes)\n",
    "distances2 = noisify_distances(distances2, 0)\n",
    "\n",
    "# STEP 3 rank potential matches according to a method.\n",
    "\n",
    "# Baseline method pairs leaves of T1 with leaves of T2 based on how similar their distance to all common leaves are.\n",
    "matches = baseline_method(distances1, distances2, epsilon = 0)\n",
    "# matches = rank_difference_method(distances1, distances2)\n",
    "\n",
    "# STEP 4 Find the best match in T2 for leaves of T1 and inversely.\n",
    "t1_matches = get_matches(matches, level=0, changes=changes)\n",
    "t2_matches = get_matches(matches, level=1, changes=changes)\n",
    "\n",
    "# STEP 5 compute a score: %age of correct pairs (between 0 and 1)\n",
    "scores = get_scores(t1_matches, t2_matches)\n",
    "scores"
   ]
  },
  {
   "cell_type": "code",
   "execution_count": 38,
   "id": "cefc298c-69c2-47fd-8e2f-d6bce3a561dc",
   "metadata": {},
   "outputs": [
    {
     "data": {
      "text/plain": [
       "B  X    0.010519\n",
       "D  R    0.028948\n",
       "F  Y    0.032703\n",
       "   W    0.129665\n",
       "H  Z    0.042419\n",
       "dtype: float64"
      ]
     },
     "execution_count": 38,
     "metadata": {},
     "output_type": "execute_result"
    }
   ],
   "source": [
    "matches"
   ]
  },
  {
   "cell_type": "code",
   "execution_count": null,
   "id": "30841ace-5c28-4d6f-99d7-4bf5d7513aa6",
   "metadata": {},
   "outputs": [],
   "source": [
    "f(distances1, distances2) -> "
   ]
  },
  {
   "cell_type": "code",
   "execution_count": 37,
   "id": "1aefc8b0-791a-4fa9-9db1-a43a1c1b712f",
   "metadata": {},
   "outputs": [
    {
     "data": {
      "text/html": [
       "<div>\n",
       "<style scoped>\n",
       "    .dataframe tbody tr th:only-of-type {\n",
       "        vertical-align: middle;\n",
       "    }\n",
       "\n",
       "    .dataframe tbody tr th {\n",
       "        vertical-align: top;\n",
       "    }\n",
       "\n",
       "    .dataframe thead th {\n",
       "        text-align: right;\n",
       "    }\n",
       "</style>\n",
       "<table border=\"1\" class=\"dataframe\">\n",
       "  <thead>\n",
       "    <tr style=\"text-align: right;\">\n",
       "      <th></th>\n",
       "      <th>t1_name</th>\n",
       "      <th>t2_name</th>\n",
       "      <th>distance</th>\n",
       "      <th>t1_match_in_t2</th>\n",
       "    </tr>\n",
       "  </thead>\n",
       "  <tbody>\n",
       "    <tr>\n",
       "      <th>0</th>\n",
       "      <td>B</td>\n",
       "      <td>X</td>\n",
       "      <td>0.010519</td>\n",
       "      <td>X</td>\n",
       "    </tr>\n",
       "    <tr>\n",
       "      <th>1</th>\n",
       "      <td>D</td>\n",
       "      <td>R</td>\n",
       "      <td>0.028948</td>\n",
       "      <td>R</td>\n",
       "    </tr>\n",
       "    <tr>\n",
       "      <th>2</th>\n",
       "      <td>F</td>\n",
       "      <td>Y</td>\n",
       "      <td>0.032703</td>\n",
       "      <td>W</td>\n",
       "    </tr>\n",
       "    <tr>\n",
       "      <th>3</th>\n",
       "      <td>H</td>\n",
       "      <td>Z</td>\n",
       "      <td>0.042419</td>\n",
       "      <td>Z</td>\n",
       "    </tr>\n",
       "    <tr>\n",
       "      <th>4</th>\n",
       "      <td>F</td>\n",
       "      <td>W</td>\n",
       "      <td>0.129665</td>\n",
       "      <td>W</td>\n",
       "    </tr>\n",
       "  </tbody>\n",
       "</table>\n",
       "</div>"
      ],
      "text/plain": [
       "  t1_name t2_name  distance t1_match_in_t2\n",
       "0       B       X  0.010519              X\n",
       "1       D       R  0.028948              R\n",
       "2       F       Y  0.032703              W\n",
       "3       H       Z  0.042419              Z\n",
       "4       F       W  0.129665              W"
      ]
     },
     "execution_count": 37,
     "metadata": {},
     "output_type": "execute_result"
    }
   ],
   "source": [
    "t2_matches"
   ]
  },
  {
   "cell_type": "code",
   "execution_count": 26,
   "id": "7b14e5cc-5d86-463a-adf8-2f1651f4bc11",
   "metadata": {},
   "outputs": [],
   "source": []
  },
  {
   "cell_type": "code",
   "execution_count": null,
   "id": "be6a0b47-26be-4488-bf0e-7d7da8c2b52a",
   "metadata": {},
   "outputs": [],
   "source": [
    "# TODO\n",
    "\n",
    "# Imaginer et coder une autre methode d'appareillement:\n",
    "# - Calculer le nombre de permutation dans la liste des n plus proches voisins pour toutes les paires de feuilles\n",
    "# - Utiliser la correlation de Pearson sur la matrice de distance aux feuilles communes\n",
    "# - ?\n",
    "\n",
    "# Trouver des arbres T1 et T2 realistes pour eviter d'utiliser noisify_distances qui n'est pas representative de la realite"
   ]
  }
 ],
 "metadata": {
  "kernelspec": {
   "display_name": "Python 3 (ipykernel)",
   "language": "python",
   "name": "python3"
  },
  "language_info": {
   "codemirror_mode": {
    "name": "ipython",
    "version": 3
   },
   "file_extension": ".py",
   "mimetype": "text/x-python",
   "name": "python",
   "nbconvert_exporter": "python",
   "pygments_lexer": "ipython3",
   "version": "3.10.12"
  }
 },
 "nbformat": 4,
 "nbformat_minor": 5
}
