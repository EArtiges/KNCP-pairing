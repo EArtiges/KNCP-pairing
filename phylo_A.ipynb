{
 "cells": [
  {
   "cell_type": "code",
   "execution_count": 142,
   "id": "888f36c2-bb4f-439a-9842-e06a9445eae2",
   "metadata": {},
   "outputs": [
    {
     "name": "stdout",
     "output_type": "stream",
     "text": [
      "Collecting dendropy\n",
      "  Downloading DendroPy-5.0.1-py3-none-any.whl (459 kB)\n",
      "\u001b[2K     \u001b[38;2;114;156;31m━━━━━━━━━━━━━━━━━━━━━━━━━━━━━━━━━━━━━━━\u001b[0m \u001b[32m459.5/459.5 KB\u001b[0m \u001b[31m4.9 MB/s\u001b[0m eta \u001b[36m0:00:00\u001b[0m[31m6.0 MB/s\u001b[0m eta \u001b[36m0:00:01\u001b[0m\n",
      "\u001b[?25hRequirement already satisfied: setuptools in /home/emmanuel/base_ds/lib/python3.10/site-packages (from dendropy) (59.6.0)\n",
      "Installing collected packages: dendropy\n",
      "Successfully installed dendropy-5.0.1\n"
     ]
    }
   ],
   "source": [
    "!pip install dendropy"
   ]
  },
  {
   "cell_type": "code",
   "execution_count": 1,
   "id": "2e8f3a76-e40d-4c1c-a9bc-91fa32ffef6f",
   "metadata": {},
   "outputs": [],
   "source": [
    "import dendropy\n",
    "from pandas import Series, DataFrame\n",
    "import numpy as np\n",
    "\n",
    "def make_distance_matrix(distances, sort=False):\n",
    "    distances = distances.reset_index().pivot_table(index=0, columns=1, values='distance')\n",
    "    distances.index.name=None\n",
    "    distances.columns.name=None\n",
    "    distances = distances.fillna(distances.T)\n",
    "\n",
    "    missing_rows = [i for i in distances.index if i not in distances.columns]\n",
    "    for row in missing_rows:\n",
    "        distances[row] = distances.loc[row]\n",
    "\n",
    "    missing_columns = [c for c in distances.columns if c not in distances.index]\n",
    "    for column in missing_columns:\n",
    "        distances.loc[column] = distances[column]\n",
    "    \n",
    "    if sort:\n",
    "        distances = distances.sort_index().sort_index(axis=1)\n",
    "    return distances.fillna(0)\n",
    "\n",
    "def d(start, end, distances):\n",
    "    return distances.loc[(start, end), 'distance']\n",
    "\n",
    "def get_distance_dataframe(tree):\n",
    "    pdm = tree.phylogenetic_distance_matrix()\n",
    "    distances = [[*name, distance] for name, distance in zip(pdm.distinct_taxon_pair_iter(), pdm.distances())]\n",
    "    distances = DataFrame(distances)\n",
    "    \n",
    "    def get_label(node):\n",
    "        return node.label\n",
    "    \n",
    "    distances[0] = distances[0].map(get_label)\n",
    "    distances[1] = distances[1].map(get_label)\n",
    "    \n",
    "    distances = distances.set_index([0, 1])\n",
    "    distances = distances.rename(columns = {2:'distance'})\n",
    "\n",
    "    return distances\n",
    "\n",
    "def get_ratio(distances1, distances2):\n",
    "    r1 = distances1.loc[common_leaves, common_leaves].sum().sum() / 2\n",
    "    r2 = distances2.loc[common_leaves, common_leaves].sum().sum() / 2\n",
    "    return r1/r2\n",
    "\n",
    "def noisify_distances(distances):\n",
    "    noise = np.triu(1 + np.random.random(distances.shape) / 10).round(2)\n",
    "    noise += noise.T\n",
    "    return distances * noise"
   ]
  },
  {
   "cell_type": "code",
   "execution_count": 9,
   "id": "d684c0a8-e45e-4e16-b32f-c88c00659356",
   "metadata": {},
   "outputs": [],
   "source": [
    "tree = dendropy.Tree.get(path='trees/sym_tree_T2.txt', schema='newick') # or whatever relevant format if not newick"
   ]
  },
  {
   "cell_type": "code",
   "execution_count": 10,
   "id": "a756265b-3109-42ae-a061-62fb80983176",
   "metadata": {},
   "outputs": [
    {
     "name": "stdout",
     "output_type": "stream",
     "text": [
      "                                                         /------------------- A\n",
      "/--------------------------------------------------------+                     \n",
      "|                                                        \\------------------- D\n",
      "+                                                                              \n",
      "|                  /--------------------------------------------------------- B\n",
      "\\------------------+                                                           \n",
      "                   |                  /-------------------------------------- F\n",
      "                   \\------------------+                                        \n",
      "                                      |                  /------------------- E\n",
      "                                      \\------------------+                     \n",
      "                                                         \\------------------- G\n",
      "                                                                               \n",
      "                                                                               \n"
     ]
    }
   ],
   "source": [
    "print(tree.as_ascii_plot())"
   ]
  },
  {
   "cell_type": "code",
   "execution_count": 2,
   "id": "ac747b71-4a91-4c0e-839a-71f78977c04e",
   "metadata": {},
   "outputs": [
    {
     "ename": "FileNotFoundError",
     "evalue": "[Errno 2] No such file or directory: 'test_tree.txt'",
     "output_type": "error",
     "traceback": [
      "\u001b[0;31m---------------------------------------------------------------------------\u001b[0m",
      "\u001b[0;31mFileNotFoundError\u001b[0m                         Traceback (most recent call last)",
      "Cell \u001b[0;32mIn[2], line 1\u001b[0m\n\u001b[0;32m----> 1\u001b[0m tree1 \u001b[38;5;241m=\u001b[39m \u001b[43mdendropy\u001b[49m\u001b[38;5;241;43m.\u001b[39;49m\u001b[43mTree\u001b[49m\u001b[38;5;241;43m.\u001b[39;49m\u001b[43mget\u001b[49m\u001b[43m(\u001b[49m\u001b[43mpath\u001b[49m\u001b[38;5;241;43m=\u001b[39;49m\u001b[38;5;124;43m'\u001b[39;49m\u001b[38;5;124;43mtest_tree.txt\u001b[39;49m\u001b[38;5;124;43m'\u001b[39;49m\u001b[43m,\u001b[49m\u001b[43m \u001b[49m\u001b[43mschema\u001b[49m\u001b[38;5;241;43m=\u001b[39;49m\u001b[38;5;124;43m'\u001b[39;49m\u001b[38;5;124;43mnewick\u001b[39;49m\u001b[38;5;124;43m'\u001b[39;49m\u001b[43m)\u001b[49m \u001b[38;5;66;03m# or whatever relevant format if not newick\u001b[39;00m\n\u001b[1;32m      2\u001b[0m distances1 \u001b[38;5;241m=\u001b[39m get_distance_dataframe(tree1)\n\u001b[1;32m      3\u001b[0m distances1 \u001b[38;5;241m=\u001b[39m make_distance_matrix(distances1, \u001b[38;5;28;01mTrue\u001b[39;00m)\n",
      "File \u001b[0;32m~/base_ds/lib/python3.10/site-packages/dendropy/datamodel/treemodel/_tree.py:239\u001b[0m, in \u001b[0;36mTree.get\u001b[0;34m(cls, **kwargs)\u001b[0m\n\u001b[1;32m    155\u001b[0m \u001b[38;5;129m@classmethod\u001b[39m\n\u001b[1;32m    156\u001b[0m \u001b[38;5;28;01mdef\u001b[39;00m \u001b[38;5;21mget\u001b[39m(\u001b[38;5;28mcls\u001b[39m, \u001b[38;5;241m*\u001b[39m\u001b[38;5;241m*\u001b[39mkwargs):\n\u001b[1;32m    157\u001b[0m \u001b[38;5;250m    \u001b[39m\u001b[38;5;124;03m\"\"\"\u001b[39;00m\n\u001b[1;32m    158\u001b[0m \u001b[38;5;124;03m    Instantiate and return a *new* |Tree| object from a data source.\u001b[39;00m\n\u001b[1;32m    159\u001b[0m \n\u001b[0;32m   (...)\u001b[0m\n\u001b[1;32m    237\u001b[0m \n\u001b[1;32m    238\u001b[0m \u001b[38;5;124;03m    \"\"\"\u001b[39;00m\n\u001b[0;32m--> 239\u001b[0m     \u001b[38;5;28;01mreturn\u001b[39;00m \u001b[38;5;28;43mcls\u001b[39;49m\u001b[38;5;241;43m.\u001b[39;49m\u001b[43m_get_from\u001b[49m\u001b[43m(\u001b[49m\u001b[38;5;241;43m*\u001b[39;49m\u001b[38;5;241;43m*\u001b[39;49m\u001b[43mkwargs\u001b[49m\u001b[43m)\u001b[49m\n",
      "File \u001b[0;32m~/base_ds/lib/python3.10/site-packages/dendropy/datamodel/basemodel.py:154\u001b[0m, in \u001b[0;36mDeserializable._get_from\u001b[0;34m(cls, **kwargs)\u001b[0m\n\u001b[1;32m    152\u001b[0m     \u001b[38;5;28;01mreturn\u001b[39;00m \u001b[38;5;28mcls\u001b[39m\u001b[38;5;241m.\u001b[39mget_from_stream(src\u001b[38;5;241m=\u001b[39msrc, schema\u001b[38;5;241m=\u001b[39mschema, \u001b[38;5;241m*\u001b[39m\u001b[38;5;241m*\u001b[39mkwargs)\n\u001b[1;32m    153\u001b[0m \u001b[38;5;28;01melif\u001b[39;00m src_type \u001b[38;5;241m==\u001b[39m \u001b[38;5;124m\"\u001b[39m\u001b[38;5;124mpath\u001b[39m\u001b[38;5;124m\"\u001b[39m:\n\u001b[0;32m--> 154\u001b[0m     \u001b[38;5;28;01mreturn\u001b[39;00m \u001b[38;5;28;43mcls\u001b[39;49m\u001b[38;5;241;43m.\u001b[39;49m\u001b[43mget_from_path\u001b[49m\u001b[43m(\u001b[49m\u001b[43msrc\u001b[49m\u001b[38;5;241;43m=\u001b[39;49m\u001b[43msrc\u001b[49m\u001b[43m,\u001b[49m\u001b[43m \u001b[49m\u001b[43mschema\u001b[49m\u001b[38;5;241;43m=\u001b[39;49m\u001b[43mschema\u001b[49m\u001b[43m,\u001b[49m\u001b[43m \u001b[49m\u001b[38;5;241;43m*\u001b[39;49m\u001b[38;5;241;43m*\u001b[39;49m\u001b[43mkwargs\u001b[49m\u001b[43m)\u001b[49m\n\u001b[1;32m    155\u001b[0m \u001b[38;5;28;01melif\u001b[39;00m src_type \u001b[38;5;241m==\u001b[39m \u001b[38;5;124m\"\u001b[39m\u001b[38;5;124mdata\u001b[39m\u001b[38;5;124m\"\u001b[39m \u001b[38;5;129;01mor\u001b[39;00m src_type \u001b[38;5;241m==\u001b[39m \u001b[38;5;124m\"\u001b[39m\u001b[38;5;124mstring\u001b[39m\u001b[38;5;124m\"\u001b[39m:\n\u001b[1;32m    156\u001b[0m     \u001b[38;5;28;01mreturn\u001b[39;00m \u001b[38;5;28mcls\u001b[39m\u001b[38;5;241m.\u001b[39mget_from_string(src\u001b[38;5;241m=\u001b[39msrc, schema\u001b[38;5;241m=\u001b[39mschema, \u001b[38;5;241m*\u001b[39m\u001b[38;5;241m*\u001b[39mkwargs)\n",
      "File \u001b[0;32m~/base_ds/lib/python3.10/site-packages/dendropy/datamodel/basemodel.py:215\u001b[0m, in \u001b[0;36mDeserializable.get_from_path\u001b[0;34m(cls, src, schema, **kwargs)\u001b[0m\n\u001b[1;32m    192\u001b[0m \u001b[38;5;250m\u001b[39m\u001b[38;5;124;03m\"\"\"\u001b[39;00m\n\u001b[1;32m    193\u001b[0m \u001b[38;5;124;03mFactory method to return new object of this class from file\u001b[39;00m\n\u001b[1;32m    194\u001b[0m \u001b[38;5;124;03mspecified by string ``src``.\u001b[39;00m\n\u001b[0;32m   (...)\u001b[0m\n\u001b[1;32m    212\u001b[0m \u001b[38;5;124;03m    in source.\u001b[39;00m\n\u001b[1;32m    213\u001b[0m \u001b[38;5;124;03m\"\"\"\u001b[39;00m\n\u001b[1;32m    214\u001b[0m open_args \u001b[38;5;241m=\u001b[39m [\u001b[38;5;124m\"\u001b[39m\u001b[38;5;124mr\u001b[39m\u001b[38;5;124m\"\u001b[39m] \u001b[38;5;28;01mif\u001b[39;00m sys\u001b[38;5;241m.\u001b[39mversion_info \u001b[38;5;241m>\u001b[39m\u001b[38;5;241m=\u001b[39m (\u001b[38;5;241m3\u001b[39m, \u001b[38;5;241m3\u001b[39m) \u001b[38;5;28;01melse\u001b[39;00m [\u001b[38;5;124m\"\u001b[39m\u001b[38;5;124mrU\u001b[39m\u001b[38;5;124m\"\u001b[39m]\n\u001b[0;32m--> 215\u001b[0m \u001b[38;5;28;01mwith\u001b[39;00m \u001b[38;5;28;43mopen\u001b[39;49m\u001b[43m(\u001b[49m\u001b[43msrc\u001b[49m\u001b[43m,\u001b[49m\u001b[43m \u001b[49m\u001b[38;5;241;43m*\u001b[39;49m\u001b[43mopen_args\u001b[49m\u001b[43m)\u001b[49m \u001b[38;5;28;01mas\u001b[39;00m fsrc:\n\u001b[1;32m    216\u001b[0m     \u001b[38;5;28;01mreturn\u001b[39;00m \u001b[38;5;28mcls\u001b[39m\u001b[38;5;241m.\u001b[39m_parse_and_create_from_stream(stream\u001b[38;5;241m=\u001b[39mfsrc,\n\u001b[1;32m    217\u001b[0m             schema\u001b[38;5;241m=\u001b[39mschema,\n\u001b[1;32m    218\u001b[0m             \u001b[38;5;241m*\u001b[39m\u001b[38;5;241m*\u001b[39mkwargs)\n",
      "\u001b[0;31mFileNotFoundError\u001b[0m: [Errno 2] No such file or directory: 'test_tree.txt'"
     ]
    }
   ],
   "source": [
    "tree1 = dendropy.Tree.get(path='test_tree.txt', schema='newick') # or whatever relevant format if not newick\n",
    "distances1 = get_distance_dataframe(tree1)\n",
    "distances1 = make_distance_matrix(distances1, True)\n",
    "distances1 = noisify_distances(distances1)\n",
    "\n",
    "tree2 = dendropy.Tree.get(path='test_tree_2.txt', schema='newick') # or whatever relevant format if not newick\n",
    "distances2 = get_distance_dataframe(tree2)\n",
    "distances2 = make_distance_matrix(distances2, True)"
   ]
  },
  {
   "cell_type": "code",
   "execution_count": 15,
   "id": "2f56b3a6-ef37-4fde-9741-f69c790f7177",
   "metadata": {},
   "outputs": [],
   "source": [
    "#common_leaves = ['A', 'C', 'G']\n",
    "# 'B'->'X', 'D'->'R', 'F'->'W', 'H'->'Z'\n",
    "common_leaves = [c for c in distances2.columns if c in distances1.columns]\n",
    "epsilon = 0"
   ]
  },
  {
   "cell_type": "code",
   "execution_count": 16,
   "id": "d9fba124-fc68-4124-8692-dce211d4e5b1",
   "metadata": {},
   "outputs": [],
   "source": [
    "def baseline_method(distances1, distances2, epsilon, common_leaves):\n",
    "    # step 1 compute ratio    \n",
    "    R = get_ratio(distances1, distances2)\n",
    "    print('ratio:', R)\n",
    "    \n",
    "    # step 2 compute distances from candidate to common leaves\n",
    "    candidates2 = [c for c in distances2.columns if c not in common_leaves]\n",
    "    candidate_distances2 = distances2.loc[candidates2, common_leaves].sum(axis=1)\n",
    "    \n",
    "    candidates1 = [c for c in distances1.columns if c not in common_leaves]\n",
    "    candidate_distances1 = distances1.loc[candidates1, common_leaves].sum(axis=1)\n",
    "    \n",
    "    # step 3 compare distances adjusted with the ratio\n",
    "    candidate_distances2 = candidate_distances2 * R\n",
    "    \n",
    "    # step 4 find the closest matches\n",
    "    matches = {}\n",
    "    for candidate in candidates2:\n",
    "        d_candidate = candidate_distances2[candidate]\n",
    "        sorted_matches = (candidate_distances1 - d_candidate).abs().sort_values()        \n",
    "        matches[candidate] = sorted_matches[sorted_matches <= sorted_matches.min() + epsilon].to_dict()\n",
    "\n",
    "    return DataFrame(matches).stack().dropna().sort_values()"
   ]
  },
  {
   "cell_type": "code",
   "execution_count": 19,
   "id": "70d146e7-6348-4ff7-b2c3-fd99e619499a",
   "metadata": {},
   "outputs": [
    {
     "name": "stdout",
     "output_type": "stream",
     "text": [
      "ratio: 1.045294117647059\n"
     ]
    },
    {
     "data": {
      "text/plain": [
       "B  R    0.454824\n",
       "   X    0.067824\n",
       "D  R    0.007824\n",
       "   X    0.514824\n",
       "   Z    0.216882\n",
       "E  W    0.111735\n",
       "   Y    0.045059\n",
       "F  W    0.071265\n",
       "   Y    0.228059\n",
       "H  R    0.305176\n",
       "   Z    0.096118\n",
       "dtype: float64"
      ]
     },
     "execution_count": 19,
     "metadata": {},
     "output_type": "execute_result"
    }
   ],
   "source": [
    "baseline_method(distances1, distances2, .5, common_leaves).sort_index()"
   ]
  },
  {
   "cell_type": "code",
   "execution_count": 43,
   "id": "980830e6-9b4e-4db0-a69a-d6ec03d9a3d6",
   "metadata": {},
   "outputs": [
    {
     "data": {
      "text/plain": [
       "['A', 'C', 'G']"
      ]
     },
     "execution_count": 43,
     "metadata": {},
     "output_type": "execute_result"
    }
   ],
   "source": [
    "common_leaves"
   ]
  },
  {
   "cell_type": "code",
   "execution_count": 7,
   "id": "9da4a5c5-09cb-4941-ba48-a589f8225d0d",
   "metadata": {},
   "outputs": [
    {
     "data": {
      "text/plain": [
       "B    2.6650\n",
       "D    3.0715\n",
       "H    3.6410\n",
       "E    4.6750\n",
       "F    4.8375\n",
       "dtype: float64"
      ]
     },
     "execution_count": 7,
     "metadata": {},
     "output_type": "execute_result"
    }
   ],
   "source": [
    "candidates1 = [c for c in distances1.columns if c not in common_leaves]\n",
    "distances1.loc[candidates1, common_leaves].sum(axis=1).sort_values()"
   ]
  },
  {
   "cell_type": "code",
   "execution_count": 8,
   "id": "e414f8a8-39a0-429a-b833-c4e75169da93",
   "metadata": {},
   "outputs": [
    {
     "data": {
      "text/plain": [
       "X    2.30\n",
       "R    2.80\n",
       "Z    3.00\n",
       "Y    4.05\n",
       "W    4.20\n",
       "dtype: float64"
      ]
     },
     "execution_count": 8,
     "metadata": {},
     "output_type": "execute_result"
    }
   ],
   "source": [
    "candidates2 = [c for c in distances2.columns if c not in common_leaves]\n",
    "distances2.loc[candidates2, common_leaves].sum(axis=1).sort_values()"
   ]
  },
  {
   "cell_type": "code",
   "execution_count": 34,
   "id": "affdf1c9-33a5-4cd6-9695-cfe2dbc9ccec",
   "metadata": {},
   "outputs": [],
   "source": [
    "# 'B'->'X', 'D'->'R', 'F'->'W', 'H'->'Z', 'E' -> 'Y'"
   ]
  },
  {
   "cell_type": "code",
   "execution_count": null,
   "id": "be6a0b47-26be-4488-bf0e-7d7da8c2b52a",
   "metadata": {},
   "outputs": [],
   "source": [
    "# Modify the tree to change the name of one node\n",
    "# design a prototype method to pair nodes\n",
    "# test prototype on modified tree"
   ]
  }
 ],
 "metadata": {
  "kernelspec": {
   "display_name": "Python 3 (ipykernel)",
   "language": "python",
   "name": "python3"
  },
  "language_info": {
   "codemirror_mode": {
    "name": "ipython",
    "version": 3
   },
   "file_extension": ".py",
   "mimetype": "text/x-python",
   "name": "python",
   "nbconvert_exporter": "python",
   "pygments_lexer": "ipython3",
   "version": "3.10.12"
  }
 },
 "nbformat": 4,
 "nbformat_minor": 5
}
